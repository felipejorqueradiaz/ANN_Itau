{
 "cells": [
  {
   "cell_type": "code",
   "execution_count": 47,
   "metadata": {},
   "outputs": [],
   "source": [
    "import pandas as pd\n",
    "import numpy as np\n",
    "import os\n",
    "import sys\n",
    "import seaborn as sns"
   ]
  },
  {
   "cell_type": "code",
   "execution_count": null,
   "metadata": {},
   "outputs": [],
   "source": [
    "path = os.path.abspath(os.path.join(os.getcwd(), os.pardir))\n",
    "os.chdir(path)"
   ]
  },
  {
   "cell_type": "code",
   "execution_count": 52,
   "metadata": {},
   "outputs": [],
   "source": [
    "df = pd.read_csv('Datos/raw/Consumidores.csv',index_col=0)"
   ]
  },
  {
   "cell_type": "code",
   "execution_count": 53,
   "metadata": {},
   "outputs": [
    {
     "data": {
      "text/html": [
       "<div>\n",
       "<style scoped>\n",
       "    .dataframe tbody tr th:only-of-type {\n",
       "        vertical-align: middle;\n",
       "    }\n",
       "\n",
       "    .dataframe tbody tr th {\n",
       "        vertical-align: top;\n",
       "    }\n",
       "\n",
       "    .dataframe thead th {\n",
       "        text-align: right;\n",
       "    }\n",
       "</style>\n",
       "<table border=\"1\" class=\"dataframe\">\n",
       "  <thead>\n",
       "    <tr style=\"text-align: right;\">\n",
       "      <th></th>\n",
       "      <th>Edad</th>\n",
       "      <th>Sexo</th>\n",
       "      <th>Renta</th>\n",
       "      <th>Recibe_sueldo_en_cuenta</th>\n",
       "      <th>Segmento_consumidor</th>\n",
       "      <th>Meses_antiguedad</th>\n",
       "      <th>Comuna</th>\n",
       "      <th>Ciudad</th>\n",
       "      <th>Estado_civil</th>\n",
       "      <th>Principalidad</th>\n",
       "      <th>Profesion</th>\n",
       "      <th>id</th>\n",
       "    </tr>\n",
       "  </thead>\n",
       "  <tbody>\n",
       "    <tr>\n",
       "      <th>0</th>\n",
       "      <td>Mayor a 70</td>\n",
       "      <td>1</td>\n",
       "      <td>R1</td>\n",
       "      <td>0</td>\n",
       "      <td>A</td>\n",
       "      <td>Mayor a 10 años</td>\n",
       "      <td>331.0</td>\n",
       "      <td>13.0</td>\n",
       "      <td>D</td>\n",
       "      <td>B</td>\n",
       "      <td>P164</td>\n",
       "      <td>1</td>\n",
       "    </tr>\n",
       "    <tr>\n",
       "      <th>1</th>\n",
       "      <td>Mayor a 70</td>\n",
       "      <td>1</td>\n",
       "      <td>R9</td>\n",
       "      <td>0</td>\n",
       "      <td>B</td>\n",
       "      <td>Mayor a 10 años</td>\n",
       "      <td>37.0</td>\n",
       "      <td>5.0</td>\n",
       "      <td>D</td>\n",
       "      <td>E</td>\n",
       "      <td>P164</td>\n",
       "      <td>2</td>\n",
       "    </tr>\n",
       "    <tr>\n",
       "      <th>2</th>\n",
       "      <td>Mayor a 70</td>\n",
       "      <td>1</td>\n",
       "      <td>R9</td>\n",
       "      <td>1</td>\n",
       "      <td>B</td>\n",
       "      <td>Mayor a 10 años</td>\n",
       "      <td>19.0</td>\n",
       "      <td>4.0</td>\n",
       "      <td>B</td>\n",
       "      <td>D</td>\n",
       "      <td>P114</td>\n",
       "      <td>3</td>\n",
       "    </tr>\n",
       "    <tr>\n",
       "      <th>3</th>\n",
       "      <td>Mayor a 70</td>\n",
       "      <td>1</td>\n",
       "      <td>R10</td>\n",
       "      <td>0</td>\n",
       "      <td>B</td>\n",
       "      <td>Mayor a 10 años</td>\n",
       "      <td>37.0</td>\n",
       "      <td>5.0</td>\n",
       "      <td>B</td>\n",
       "      <td>C</td>\n",
       "      <td>P164</td>\n",
       "      <td>4</td>\n",
       "    </tr>\n",
       "    <tr>\n",
       "      <th>4</th>\n",
       "      <td>Mayor a 70</td>\n",
       "      <td>1</td>\n",
       "      <td>R4</td>\n",
       "      <td>0</td>\n",
       "      <td>A</td>\n",
       "      <td>Mayor a 10 años</td>\n",
       "      <td>91.0</td>\n",
       "      <td>13.0</td>\n",
       "      <td>D</td>\n",
       "      <td>B</td>\n",
       "      <td>P85</td>\n",
       "      <td>5</td>\n",
       "    </tr>\n",
       "  </tbody>\n",
       "</table>\n",
       "</div>"
      ],
      "text/plain": [
       "         Edad  Sexo Renta  Recibe_sueldo_en_cuenta Segmento_consumidor  \\\n",
       "0  Mayor a 70     1    R1                        0                   A   \n",
       "1  Mayor a 70     1    R9                        0                   B   \n",
       "2  Mayor a 70     1    R9                        1                   B   \n",
       "3  Mayor a 70     1   R10                        0                   B   \n",
       "4  Mayor a 70     1    R4                        0                   A   \n",
       "\n",
       "  Meses_antiguedad  Comuna  Ciudad Estado_civil Principalidad Profesion  id  \n",
       "0  Mayor a 10 años   331.0    13.0            D             B      P164   1  \n",
       "1  Mayor a 10 años    37.0     5.0            D             E      P164   2  \n",
       "2  Mayor a 10 años    19.0     4.0            B             D      P114   3  \n",
       "3  Mayor a 10 años    37.0     5.0            B             C      P164   4  \n",
       "4  Mayor a 10 años    91.0    13.0            D             B       P85   5  "
      ]
     },
     "execution_count": 53,
     "metadata": {},
     "output_type": "execute_result"
    }
   ],
   "source": [
    "df.head()"
   ]
  },
  {
   "cell_type": "code",
   "execution_count": 95,
   "metadata": {},
   "outputs": [
    {
     "name": "stdout",
     "output_type": "stream",
     "text": [
      "<class 'pandas.core.frame.DataFrame'>\n",
      "Int64Index: 79539 entries, 0 to 79552\n",
      "Data columns (total 12 columns):\n",
      " #   Column                   Non-Null Count  Dtype  \n",
      "---  ------                   --------------  -----  \n",
      " 0   Edad                     79539 non-null  object \n",
      " 1   Sexo                     79539 non-null  int64  \n",
      " 2   Renta                    79539 non-null  int32  \n",
      " 3   Recibe_sueldo_en_cuenta  79539 non-null  int64  \n",
      " 4   Segmento_consumidor      79539 non-null  object \n",
      " 5   Meses_antiguedad         79539 non-null  object \n",
      " 6   Comuna                   79481 non-null  float64\n",
      " 7   Ciudad                   79535 non-null  float64\n",
      " 8   Estado_civil             79539 non-null  object \n",
      " 9   Principalidad            67378 non-null  object \n",
      " 10  Profesion                79539 non-null  int32  \n",
      " 11  id                       79539 non-null  int64  \n",
      "dtypes: float64(2), int32(2), int64(3), object(5)\n",
      "memory usage: 7.3+ MB\n"
     ]
    }
   ],
   "source": [
    "df.info()"
   ]
  },
  {
   "cell_type": "code",
   "execution_count": 33,
   "metadata": {},
   "outputs": [
    {
     "data": {
      "text/plain": [
       "Edad\n",
       "Entre 25 y 30     6608\n",
       "Entre 30 y 35    13393\n",
       "Entre 35 y 40    13806\n",
       "Entre 40 y 45    11940\n",
       "Entre 45 y 50     9884\n",
       "Entre 50 y 55     7310\n",
       "Entre 55 y 60     5839\n",
       "Entre 60 y 65     4441\n",
       "Entre 65 y 70     2906\n",
       "Mayor a 70        2919\n",
       "Menor a 25         493\n",
       "Name: Edad, dtype: int64"
      ]
     },
     "execution_count": 33,
     "metadata": {},
     "output_type": "execute_result"
    }
   ],
   "source": [
    "df.groupby('Edad')['Edad'].count()"
   ]
  },
  {
   "cell_type": "code",
   "execution_count": 34,
   "metadata": {},
   "outputs": [
    {
     "data": {
      "text/plain": [
       "Meses_antiguedad\n",
       "Entre 1 y 2 años        22\n",
       "Entre 2 y 3 años        19\n",
       "Entre 3 y 4 años        27\n",
       "Entre 4 y 5 años        34\n",
       "Entre 5 y 6 años        48\n",
       "Entre 6 y 7 años        54\n",
       "Entre 7 y 8 años        49\n",
       "Entre 8 y 9 años        73\n",
       "Entre 9 y 10 años       83\n",
       "Mayor a 10 años       1788\n",
       "Menos de 1 año       77342\n",
       "Name: Meses_antiguedad, dtype: int64"
      ]
     },
     "execution_count": 34,
     "metadata": {},
     "output_type": "execute_result"
    }
   ],
   "source": [
    "df.groupby('Meses_antiguedad')['Meses_antiguedad'].count()"
   ]
  },
  {
   "cell_type": "code",
   "execution_count": 35,
   "metadata": {},
   "outputs": [
    {
     "data": {
      "text/plain": [
       "Estado_civil\n",
       "A    45817\n",
       "B    20840\n",
       "C      705\n",
       "D     8448\n",
       "E     3729\n",
       "Name: Estado_civil, dtype: int64"
      ]
     },
     "execution_count": 35,
     "metadata": {},
     "output_type": "execute_result"
    }
   ],
   "source": [
    "df.groupby('Estado_civil')['Estado_civil'].count()"
   ]
  },
  {
   "cell_type": "code",
   "execution_count": 36,
   "metadata": {},
   "outputs": [
    {
     "data": {
      "text/plain": [
       "Principalidad\n",
       "A    15487\n",
       "B    18017\n",
       "C     4319\n",
       "D     9378\n",
       "E     5355\n",
       "F     9811\n",
       "G     5011\n",
       "Name: Principalidad, dtype: int64"
      ]
     },
     "execution_count": 36,
     "metadata": {},
     "output_type": "execute_result"
    }
   ],
   "source": [
    "df.groupby('Principalidad')['Principalidad'].count()"
   ]
  },
  {
   "cell_type": "code",
   "execution_count": 54,
   "metadata": {},
   "outputs": [],
   "source": [
    "df['Profesion'] = df['Profesion'].fillna('P0')"
   ]
  },
  {
   "cell_type": "code",
   "execution_count": 55,
   "metadata": {},
   "outputs": [],
   "source": [
    "df['Renta'] = df['Renta'].str.replace(r'R', '').astype(int)\n",
    "df['Profesion'] = df['Profesion'].str.replace(r'P', '').astype(int)"
   ]
  },
  {
   "cell_type": "code",
   "execution_count": 46,
   "metadata": {},
   "outputs": [
    {
     "data": {
      "text/plain": [
       "Profesion\n",
       "P164    9923\n",
       "P227    7120\n",
       "P84     5619\n",
       "P85     5388\n",
       "P149    4645\n",
       "P39     3308\n",
       "P1      3257\n",
       "P210    3054\n",
       "P160    2445\n",
       "P178    2326\n",
       "P101    2324\n",
       "P182    2064\n",
       "P69     1367\n",
       "P191    1249\n",
       "P114    1061\n",
       "P14     1051\n",
       "P4      1012\n",
       "P87      951\n",
       "P38      826\n",
       "P136     781\n",
       "P167     659\n",
       "P208     657\n",
       "P82      641\n",
       "P122     631\n",
       "P196     579\n",
       "P113     551\n",
       "P97      546\n",
       "P183     522\n",
       "P193     516\n",
       "P88      512\n",
       "P18      491\n",
       "P41      483\n",
       "P94      437\n",
       "P233     413\n",
       "P66      390\n",
       "P40      372\n",
       "P148     345\n",
       "P100     340\n",
       "P238     328\n",
       "P105     324\n",
       "Name: Profesion, dtype: int64"
      ]
     },
     "execution_count": 46,
     "metadata": {},
     "output_type": "execute_result"
    }
   ],
   "source": [
    "df.groupby('Profesion')['Profesion'].count().sort_values(ascending=False).head(40)"
   ]
  },
  {
   "cell_type": "code",
   "execution_count": 88,
   "metadata": {},
   "outputs": [
    {
     "data": {
      "text/plain": [
       "<matplotlib.axes._subplots.AxesSubplot at 0x1a64c6e5ac0>"
      ]
     },
     "execution_count": 88,
     "metadata": {},
     "output_type": "execute_result"
    },
    {
     "data": {
      "image/png": "[encoded data removed]",
      "text/plain": [
       "<Figure size 432x288 with 2 Axes>"
      ]
     },
     "metadata": {
      "needs_background": "light"
     },
     "output_type": "display_data"
    }
   ],
   "source": [
    "df_sns = df.groupby(['Renta', 'Profesion'], as_index=False)['id'].count()\n",
    "df_sns['perc'] = df_sns['id']/df_sns['id'].sum()\n",
    "df2 = df_sns.copy()\n",
    "df_sns = df_sns.pivot('Renta', 'Profesion', 'id')\n",
    "sns.heatmap(df_sns)"
   ]
  },
  {
   "cell_type": "code",
   "execution_count": 89,
   "metadata": {},
   "outputs": [
    {
     "data": {
      "text/html": [
       "<div>\n",
       "<style scoped>\n",
       "    .dataframe tbody tr th:only-of-type {\n",
       "        vertical-align: middle;\n",
       "    }\n",
       "\n",
       "    .dataframe tbody tr th {\n",
       "        vertical-align: top;\n",
       "    }\n",
       "\n",
       "    .dataframe thead th {\n",
       "        text-align: right;\n",
       "    }\n",
       "</style>\n",
       "<table border=\"1\" class=\"dataframe\">\n",
       "  <thead>\n",
       "    <tr style=\"text-align: right;\">\n",
       "      <th></th>\n",
       "      <th>Renta</th>\n",
       "      <th>Profesion</th>\n",
       "      <th>id</th>\n",
       "      <th>perc</th>\n",
       "    </tr>\n",
       "  </thead>\n",
       "  <tbody>\n",
       "    <tr>\n",
       "      <th>count</th>\n",
       "      <td>1980.000000</td>\n",
       "      <td>1980.000000</td>\n",
       "      <td>1980.000000</td>\n",
       "      <td>1980.000000</td>\n",
       "    </tr>\n",
       "    <tr>\n",
       "      <th>mean</th>\n",
       "      <td>7.759596</td>\n",
       "      <td>115.047980</td>\n",
       "      <td>40.171212</td>\n",
       "      <td>0.000505</td>\n",
       "    </tr>\n",
       "    <tr>\n",
       "      <th>std</th>\n",
       "      <td>5.409720</td>\n",
       "      <td>64.837085</td>\n",
       "      <td>143.246398</td>\n",
       "      <td>0.001801</td>\n",
       "    </tr>\n",
       "    <tr>\n",
       "      <th>min</th>\n",
       "      <td>1.000000</td>\n",
       "      <td>0.000000</td>\n",
       "      <td>1.000000</td>\n",
       "      <td>0.000013</td>\n",
       "    </tr>\n",
       "    <tr>\n",
       "      <th>25%</th>\n",
       "      <td>3.000000</td>\n",
       "      <td>65.750000</td>\n",
       "      <td>2.000000</td>\n",
       "      <td>0.000025</td>\n",
       "    </tr>\n",
       "    <tr>\n",
       "      <th>50%</th>\n",
       "      <td>6.000000</td>\n",
       "      <td>111.000000</td>\n",
       "      <td>4.000000</td>\n",
       "      <td>0.000050</td>\n",
       "    </tr>\n",
       "    <tr>\n",
       "      <th>75%</th>\n",
       "      <td>11.000000</td>\n",
       "      <td>163.000000</td>\n",
       "      <td>17.000000</td>\n",
       "      <td>0.000214</td>\n",
       "    </tr>\n",
       "    <tr>\n",
       "      <th>max</th>\n",
       "      <td>21.000000</td>\n",
       "      <td>241.000000</td>\n",
       "      <td>2648.000000</td>\n",
       "      <td>0.033292</td>\n",
       "    </tr>\n",
       "  </tbody>\n",
       "</table>\n",
       "</div>"
      ],
      "text/plain": [
       "             Renta    Profesion           id         perc\n",
       "count  1980.000000  1980.000000  1980.000000  1980.000000\n",
       "mean      7.759596   115.047980    40.171212     0.000505\n",
       "std       5.409720    64.837085   143.246398     0.001801\n",
       "min       1.000000     0.000000     1.000000     0.000013\n",
       "25%       3.000000    65.750000     2.000000     0.000025\n",
       "50%       6.000000   111.000000     4.000000     0.000050\n",
       "75%      11.000000   163.000000    17.000000     0.000214\n",
       "max      21.000000   241.000000  2648.000000     0.033292"
      ]
     },
     "execution_count": 89,
     "metadata": {},
     "output_type": "execute_result"
    }
   ],
   "source": [
    "df2.describe()"
   ]
  },
  {
   "cell_type": "code",
   "execution_count": 93,
   "metadata": {},
   "outputs": [
    {
     "data": {
      "text/html": [
       "<div>\n",
       "<style scoped>\n",
       "    .dataframe tbody tr th:only-of-type {\n",
       "        vertical-align: middle;\n",
       "    }\n",
       "\n",
       "    .dataframe tbody tr th {\n",
       "        vertical-align: top;\n",
       "    }\n",
       "\n",
       "    .dataframe thead th {\n",
       "        text-align: right;\n",
       "    }\n",
       "</style>\n",
       "<table border=\"1\" class=\"dataframe\">\n",
       "  <thead>\n",
       "    <tr style=\"text-align: right;\">\n",
       "      <th></th>\n",
       "      <th>Renta</th>\n",
       "      <th>Profesion</th>\n",
       "      <th>id</th>\n",
       "      <th>perc</th>\n",
       "    </tr>\n",
       "  </thead>\n",
       "  <tbody>\n",
       "    <tr>\n",
       "      <th>0</th>\n",
       "      <td>1</td>\n",
       "      <td>0</td>\n",
       "      <td>161</td>\n",
       "      <td>0.002024</td>\n",
       "    </tr>\n",
       "    <tr>\n",
       "      <th>1</th>\n",
       "      <td>1</td>\n",
       "      <td>1</td>\n",
       "      <td>394</td>\n",
       "      <td>0.004954</td>\n",
       "    </tr>\n",
       "    <tr>\n",
       "      <th>2</th>\n",
       "      <td>1</td>\n",
       "      <td>2</td>\n",
       "      <td>21</td>\n",
       "      <td>0.000264</td>\n",
       "    </tr>\n",
       "    <tr>\n",
       "      <th>3</th>\n",
       "      <td>1</td>\n",
       "      <td>3</td>\n",
       "      <td>16</td>\n",
       "      <td>0.000201</td>\n",
       "    </tr>\n",
       "    <tr>\n",
       "      <th>4</th>\n",
       "      <td>1</td>\n",
       "      <td>4</td>\n",
       "      <td>386</td>\n",
       "      <td>0.004853</td>\n",
       "    </tr>\n",
       "    <tr>\n",
       "      <th>...</th>\n",
       "      <td>...</td>\n",
       "      <td>...</td>\n",
       "      <td>...</td>\n",
       "      <td>...</td>\n",
       "    </tr>\n",
       "    <tr>\n",
       "      <th>1975</th>\n",
       "      <td>21</td>\n",
       "      <td>193</td>\n",
       "      <td>2</td>\n",
       "      <td>0.000025</td>\n",
       "    </tr>\n",
       "    <tr>\n",
       "      <th>1976</th>\n",
       "      <td>21</td>\n",
       "      <td>201</td>\n",
       "      <td>1</td>\n",
       "      <td>0.000013</td>\n",
       "    </tr>\n",
       "    <tr>\n",
       "      <th>1977</th>\n",
       "      <td>21</td>\n",
       "      <td>210</td>\n",
       "      <td>13</td>\n",
       "      <td>0.000163</td>\n",
       "    </tr>\n",
       "    <tr>\n",
       "      <th>1978</th>\n",
       "      <td>21</td>\n",
       "      <td>226</td>\n",
       "      <td>1</td>\n",
       "      <td>0.000013</td>\n",
       "    </tr>\n",
       "    <tr>\n",
       "      <th>1979</th>\n",
       "      <td>21</td>\n",
       "      <td>227</td>\n",
       "      <td>10</td>\n",
       "      <td>0.000126</td>\n",
       "    </tr>\n",
       "  </tbody>\n",
       "</table>\n",
       "<p>1980 rows × 4 columns</p>\n",
       "</div>"
      ],
      "text/plain": [
       "      Renta  Profesion   id      perc\n",
       "0         1          0  161  0.002024\n",
       "1         1          1  394  0.004954\n",
       "2         1          2   21  0.000264\n",
       "3         1          3   16  0.000201\n",
       "4         1          4  386  0.004853\n",
       "...     ...        ...  ...       ...\n",
       "1975     21        193    2  0.000025\n",
       "1976     21        201    1  0.000013\n",
       "1977     21        210   13  0.000163\n",
       "1978     21        226    1  0.000013\n",
       "1979     21        227   10  0.000126\n",
       "\n",
       "[1980 rows x 4 columns]"
      ]
     },
     "execution_count": 93,
     "metadata": {},
     "output_type": "execute_result"
    }
   ],
   "source": [
    "df2"
   ]
  },
  {
   "cell_type": "code",
   "execution_count": 99,
   "metadata": {},
   "outputs": [
    {
     "data": {
      "text/html": [
       "<div>\n",
       "<style scoped>\n",
       "    .dataframe tbody tr th:only-of-type {\n",
       "        vertical-align: middle;\n",
       "    }\n",
       "\n",
       "    .dataframe tbody tr th {\n",
       "        vertical-align: top;\n",
       "    }\n",
       "\n",
       "    .dataframe thead th {\n",
       "        text-align: right;\n",
       "    }\n",
       "</style>\n",
       "<table border=\"1\" class=\"dataframe\">\n",
       "  <thead>\n",
       "    <tr style=\"text-align: right;\">\n",
       "      <th></th>\n",
       "      <th>Renta</th>\n",
       "      <th>Profesion</th>\n",
       "      <th>id</th>\n",
       "      <th>perc</th>\n",
       "    </tr>\n",
       "  </thead>\n",
       "  <tbody>\n",
       "    <tr>\n",
       "      <th>count</th>\n",
       "      <td>494.000000</td>\n",
       "      <td>494.000000</td>\n",
       "      <td>494.000000</td>\n",
       "      <td>494.000000</td>\n",
       "    </tr>\n",
       "    <tr>\n",
       "      <th>mean</th>\n",
       "      <td>5.226721</td>\n",
       "      <td>117.378543</td>\n",
       "      <td>148.439271</td>\n",
       "      <td>0.001866</td>\n",
       "    </tr>\n",
       "    <tr>\n",
       "      <th>std</th>\n",
       "      <td>3.898980</td>\n",
       "      <td>65.378415</td>\n",
       "      <td>258.203678</td>\n",
       "      <td>0.003246</td>\n",
       "    </tr>\n",
       "    <tr>\n",
       "      <th>min</th>\n",
       "      <td>1.000000</td>\n",
       "      <td>0.000000</td>\n",
       "      <td>18.000000</td>\n",
       "      <td>0.000226</td>\n",
       "    </tr>\n",
       "    <tr>\n",
       "      <th>25%</th>\n",
       "      <td>3.000000</td>\n",
       "      <td>74.750000</td>\n",
       "      <td>31.000000</td>\n",
       "      <td>0.000390</td>\n",
       "    </tr>\n",
       "    <tr>\n",
       "      <th>50%</th>\n",
       "      <td>4.000000</td>\n",
       "      <td>111.000000</td>\n",
       "      <td>60.500000</td>\n",
       "      <td>0.000761</td>\n",
       "    </tr>\n",
       "    <tr>\n",
       "      <th>75%</th>\n",
       "      <td>7.000000</td>\n",
       "      <td>167.000000</td>\n",
       "      <td>140.250000</td>\n",
       "      <td>0.001763</td>\n",
       "    </tr>\n",
       "    <tr>\n",
       "      <th>max</th>\n",
       "      <td>21.000000</td>\n",
       "      <td>238.000000</td>\n",
       "      <td>2648.000000</td>\n",
       "      <td>0.033292</td>\n",
       "    </tr>\n",
       "  </tbody>\n",
       "</table>\n",
       "</div>"
      ],
      "text/plain": [
       "            Renta   Profesion           id        perc\n",
       "count  494.000000  494.000000   494.000000  494.000000\n",
       "mean     5.226721  117.378543   148.439271    0.001866\n",
       "std      3.898980   65.378415   258.203678    0.003246\n",
       "min      1.000000    0.000000    18.000000    0.000226\n",
       "25%      3.000000   74.750000    31.000000    0.000390\n",
       "50%      4.000000  111.000000    60.500000    0.000761\n",
       "75%      7.000000  167.000000   140.250000    0.001763\n",
       "max     21.000000  238.000000  2648.000000    0.033292"
      ]
     },
     "execution_count": 99,
     "metadata": {},
     "output_type": "execute_result"
    }
   ],
   "source": [
    "df2[df2['perc']>=0.000214].describe()"
   ]
  },
  {
   "cell_type": "code",
   "execution_count": 100,
   "metadata": {},
   "outputs": [
    {
     "data": {
      "text/plain": [
       "Renta         2582.000000\n",
       "Profesion    57985.000000\n",
       "id           73329.000000\n",
       "perc             0.921925\n",
       "dtype: float64"
      ]
     },
     "execution_count": 100,
     "metadata": {},
     "output_type": "execute_result"
    }
   ],
   "source": [
    "df2[df2['perc']>=0.000214].sum()"
   ]
  },
  {
   "cell_type": "code",
   "execution_count": null,
   "metadata": {},
   "outputs": [],
   "source": [
    "df.groupby('Renta')['Renta'].count()"
   ]
  }
 ],
 "metadata": {
  "kernelspec": {
   "display_name": "Python 3",
   "language": "python",
   "name": "python3"
  },
  "language_info": {
   "codemirror_mode": {
    "name": "ipython",
    "version": 3
   },
   "file_extension": ".py",
   "mimetype": "text/x-python",
   "name": "python",
   "nbconvert_exporter": "python",
   "pygments_lexer": "ipython3",
   "version": "3.8.3"
  }
 },
 "nbformat": 4,
 "nbformat_minor": 4
}
