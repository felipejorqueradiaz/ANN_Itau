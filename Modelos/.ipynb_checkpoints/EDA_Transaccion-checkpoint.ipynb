{
 "cells": [
  {
   "cell_type": "code",
   "execution_count": null,
   "metadata": {},
   "outputs": [],
   "source": [
    "import pandas as pd\n",
    "pd.options.display.float_format = '{:.2f}'.format\n",
    "import numpy as np\n",
    "import os\n",
    "import sys\n",
    "import seaborn as sns\n",
    "import matplotlib.pyplot as plt\n",
    "\n",
    "path = os.path.abspath(os.path.join(os.getcwd(), os.pardir))\n",
    "os.chdir(path)"
   ]
  },
  {
   "cell_type": "code",
   "execution_count": null,
   "metadata": {},
   "outputs": [],
   "source": [
    "os.getcwd()"
   ]
  },
  {
   "cell_type": "code",
   "execution_count": null,
   "metadata": {},
   "outputs": [],
   "source": [
    "df = pd.read_csv('Datos/raw/Transaccion_train.csv', index_col=0)\n",
    "display(df.sample(5))\n",
    "display(df.info())"
   ]
  },
  {
   "cell_type": "code",
   "execution_count": null,
   "metadata": {},
   "outputs": [],
   "source": [
    "df.Periodo = df.Periodo.astype('object')\n",
    "df.id = df.id.astype('object')\n",
    "objec = df.select_dtypes(include='object')"
   ]
  },
  {
   "cell_type": "code",
   "execution_count": null,
   "metadata": {},
   "outputs": [],
   "source": [
    "print( \"\\t Monto\")\n",
    "display(df['Monto'].describe())\n",
    "print( \"\\t Cat\")\n",
    "display(objec.describe())"
   ]
  },
  {
   "cell_type": "code",
   "execution_count": null,
   "metadata": {},
   "outputs": [],
   "source": [
    "sns.catplot(x=\"Signo\", y=\"Monto\", hue=\"Id_Producto\", kind=\"swarm\", data=df)"
   ]
  },
  {
   "cell_type": "code",
   "execution_count": null,
   "metadata": {},
   "outputs": [],
   "source": [
    "primer_quan, cuar_quan = df.Monto.quantile([.25, .75])\n",
    "\n",
    "df.loc[(df.Monto > primer_quan) & (df.Monto < cuar_quan)].head()\n"
   ]
  },
  {
   "cell_type": "code",
   "execution_count": null,
   "metadata": {},
   "outputs": [],
   "source": [
    "plt.figure(figsize=(9, 8))\n",
    "sns.histplot(df['Monto'])#, color='blue', bins=1000"
   ]
  },
  {
   "cell_type": "code",
   "execution_count": 7,
   "metadata": {},
   "outputs": [],
   "source": [
    "df_1 = df[df['Periodo']==201901]"
   ]
  },
  {
   "cell_type": "code",
   "execution_count": 8,
   "metadata": {},
   "outputs": [
    {
     "data": {
      "text/html": [
       "<div>\n",
       "<style scoped>\n",
       "    .dataframe tbody tr th:only-of-type {\n",
       "        vertical-align: middle;\n",
       "    }\n",
       "\n",
       "    .dataframe tbody tr th {\n",
       "        vertical-align: top;\n",
       "    }\n",
       "\n",
       "    .dataframe thead th {\n",
       "        text-align: right;\n",
       "    }\n",
       "</style>\n",
       "<table border=\"1\" class=\"dataframe\">\n",
       "  <thead>\n",
       "    <tr style=\"text-align: right;\">\n",
       "      <th></th>\n",
       "      <th>Unnamed: 0</th>\n",
       "      <th>id</th>\n",
       "      <th>Id_Producto</th>\n",
       "      <th>Tipo</th>\n",
       "      <th>Producto-Tipo</th>\n",
       "      <th>Signo</th>\n",
       "      <th>Monto</th>\n",
       "      <th>Fecha</th>\n",
       "      <th>Periodo</th>\n",
       "    </tr>\n",
       "  </thead>\n",
       "  <tbody>\n",
       "    <tr>\n",
       "      <th>0</th>\n",
       "      <td>0</td>\n",
       "      <td>1</td>\n",
       "      <td>F</td>\n",
       "      <td>D</td>\n",
       "      <td>F-D</td>\n",
       "      <td>Positivo</td>\n",
       "      <td>377142.843750</td>\n",
       "      <td>NaN</td>\n",
       "      <td>201901</td>\n",
       "    </tr>\n",
       "    <tr>\n",
       "      <th>21</th>\n",
       "      <td>21</td>\n",
       "      <td>1</td>\n",
       "      <td>F</td>\n",
       "      <td>H</td>\n",
       "      <td>F-H</td>\n",
       "      <td>Negativo</td>\n",
       "      <td>377142.843750</td>\n",
       "      <td>NaN</td>\n",
       "      <td>201901</td>\n",
       "    </tr>\n",
       "    <tr>\n",
       "      <th>38</th>\n",
       "      <td>38</td>\n",
       "      <td>1</td>\n",
       "      <td>F</td>\n",
       "      <td>J</td>\n",
       "      <td>F-J</td>\n",
       "      <td>Positivo</td>\n",
       "      <td>377142.843750</td>\n",
       "      <td>NaN</td>\n",
       "      <td>201901</td>\n",
       "    </tr>\n",
       "    <tr>\n",
       "      <th>82</th>\n",
       "      <td>82</td>\n",
       "      <td>1</td>\n",
       "      <td>G</td>\n",
       "      <td>K</td>\n",
       "      <td>G-K</td>\n",
       "      <td>Negativo</td>\n",
       "      <td>121357.140625</td>\n",
       "      <td>NaN</td>\n",
       "      <td>201901</td>\n",
       "    </tr>\n",
       "    <tr>\n",
       "      <th>87</th>\n",
       "      <td>87</td>\n",
       "      <td>1</td>\n",
       "      <td>G</td>\n",
       "      <td>K</td>\n",
       "      <td>G-K</td>\n",
       "      <td>Negativo</td>\n",
       "      <td>121533.000000</td>\n",
       "      <td>NaN</td>\n",
       "      <td>201901</td>\n",
       "    </tr>\n",
       "  </tbody>\n",
       "</table>\n",
       "</div>"
      ],
      "text/plain": [
       "    Unnamed: 0  id Id_Producto Tipo Producto-Tipo     Signo          Monto  \\\n",
       "0            0   1           F    D           F-D  Positivo  377142.843750   \n",
       "21          21   1           F    H           F-H  Negativo  377142.843750   \n",
       "38          38   1           F    J           F-J  Positivo  377142.843750   \n",
       "82          82   1           G    K           G-K  Negativo  121357.140625   \n",
       "87          87   1           G    K           G-K  Negativo  121533.000000   \n",
       "\n",
       "   Fecha  Periodo  \n",
       "0    NaN   201901  \n",
       "21   NaN   201901  \n",
       "38   NaN   201901  \n",
       "82   NaN   201901  \n",
       "87   NaN   201901  "
      ]
     },
     "execution_count": 8,
     "metadata": {},
     "output_type": "execute_result"
    }
   ],
   "source": [
    "df_1.head()"
   ]
  },
  {
   "cell_type": "code",
   "execution_count": 15,
   "metadata": {},
   "outputs": [
    {
     "name": "stdout",
     "output_type": "stream",
     "text": [
      "Id_Producto\n",
      "A    445995\n",
      "B      3979\n",
      "C     20180\n",
      "D     11772\n",
      "E     10699\n",
      "F    150761\n",
      "G    592953\n",
      "Name: Id_Producto, dtype: int64\n"
     ]
    }
   ],
   "source": [
    "count = df_1.groupby('Id_Producto')['Id_Producto'].count()\n",
    "print(count)"
   ]
  },
  {
   "cell_type": "code",
   "execution_count": 16,
   "metadata": {},
   "outputs": [
    {
     "data": {
      "text/plain": [
       "Id_Producto\n",
       "A    0.360738\n",
       "B    0.003218\n",
       "C    0.016322\n",
       "D    0.009522\n",
       "E    0.008654\n",
       "F    0.121941\n",
       "G    0.479604\n",
       "Name: Id_Producto, dtype: float64"
      ]
     },
     "execution_count": 16,
     "metadata": {},
     "output_type": "execute_result"
    }
   ],
   "source": [
    "count/count.sum()"
   ]
  },
  {
   "cell_type": "code",
   "execution_count": 17,
   "metadata": {},
   "outputs": [
    {
     "data": {
      "text/html": [
       "<div>\n",
       "<style scoped>\n",
       "    .dataframe tbody tr th:only-of-type {\n",
       "        vertical-align: middle;\n",
       "    }\n",
       "\n",
       "    .dataframe tbody tr th {\n",
       "        vertical-align: top;\n",
       "    }\n",
       "\n",
       "    .dataframe thead th {\n",
       "        text-align: right;\n",
       "    }\n",
       "</style>\n",
       "<table border=\"1\" class=\"dataframe\">\n",
       "  <thead>\n",
       "    <tr style=\"text-align: right;\">\n",
       "      <th></th>\n",
       "      <th>Unnamed: 0</th>\n",
       "      <th>id</th>\n",
       "      <th>Monto</th>\n",
       "      <th>Periodo</th>\n",
       "    </tr>\n",
       "  </thead>\n",
       "  <tbody>\n",
       "    <tr>\n",
       "      <th>count</th>\n",
       "      <td>1.236339e+06</td>\n",
       "      <td>1.236339e+06</td>\n",
       "      <td>1.236339e+06</td>\n",
       "      <td>1236339.0</td>\n",
       "    </tr>\n",
       "    <tr>\n",
       "      <th>mean</th>\n",
       "      <td>1.188308e+07</td>\n",
       "      <td>3.855834e+04</td>\n",
       "      <td>2.065975e+05</td>\n",
       "      <td>201901.0</td>\n",
       "    </tr>\n",
       "    <tr>\n",
       "      <th>std</th>\n",
       "      <td>7.172332e+06</td>\n",
       "      <td>2.387891e+04</td>\n",
       "      <td>1.221006e+06</td>\n",
       "      <td>0.0</td>\n",
       "    </tr>\n",
       "    <tr>\n",
       "      <th>min</th>\n",
       "      <td>0.000000e+00</td>\n",
       "      <td>1.000000e+00</td>\n",
       "      <td>5.399200e+04</td>\n",
       "      <td>201901.0</td>\n",
       "    </tr>\n",
       "    <tr>\n",
       "      <th>25%</th>\n",
       "      <td>5.549613e+06</td>\n",
       "      <td>1.715200e+04</td>\n",
       "      <td>1.210814e+05</td>\n",
       "      <td>201901.0</td>\n",
       "    </tr>\n",
       "    <tr>\n",
       "      <th>50%</th>\n",
       "      <td>1.160254e+07</td>\n",
       "      <td>3.690300e+04</td>\n",
       "      <td>1.232357e+05</td>\n",
       "      <td>201901.0</td>\n",
       "    </tr>\n",
       "    <tr>\n",
       "      <th>75%</th>\n",
       "      <td>1.826253e+07</td>\n",
       "      <td>6.062200e+04</td>\n",
       "      <td>1.292643e+05</td>\n",
       "      <td>201901.0</td>\n",
       "    </tr>\n",
       "    <tr>\n",
       "      <th>max</th>\n",
       "      <td>2.439748e+07</td>\n",
       "      <td>7.953900e+04</td>\n",
       "      <td>3.501343e+08</td>\n",
       "      <td>201901.0</td>\n",
       "    </tr>\n",
       "  </tbody>\n",
       "</table>\n",
       "</div>"
      ],
      "text/plain": [
       "         Unnamed: 0            id         Monto    Periodo\n",
       "count  1.236339e+06  1.236339e+06  1.236339e+06  1236339.0\n",
       "mean   1.188308e+07  3.855834e+04  2.065975e+05   201901.0\n",
       "std    7.172332e+06  2.387891e+04  1.221006e+06        0.0\n",
       "min    0.000000e+00  1.000000e+00  5.399200e+04   201901.0\n",
       "25%    5.549613e+06  1.715200e+04  1.210814e+05   201901.0\n",
       "50%    1.160254e+07  3.690300e+04  1.232357e+05   201901.0\n",
       "75%    1.826253e+07  6.062200e+04  1.292643e+05   201901.0\n",
       "max    2.439748e+07  7.953900e+04  3.501343e+08   201901.0"
      ]
     },
     "execution_count": 17,
     "metadata": {},
     "output_type": "execute_result"
    }
   ],
   "source": [
    "df_1.describe()"
   ]
  }
 ],
 "metadata": {
  "kernelspec": {
   "display_name": "Python 3",
   "language": "python",
   "name": "python3"
  },
  "language_info": {
   "codemirror_mode": {
    "name": "ipython",
    "version": 3
   },
   "file_extension": ".py",
   "mimetype": "text/x-python",
   "name": "python",
   "nbconvert_exporter": "python",
   "pygments_lexer": "ipython3",
   "version": "3.8.5"
  }
 },
 "nbformat": 4,
 "nbformat_minor": 4
}
