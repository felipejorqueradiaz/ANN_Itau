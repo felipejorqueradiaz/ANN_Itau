{
 "cells": [
  {
   "cell_type": "code",
   "execution_count": 1,
   "metadata": {},
   "outputs": [
    {
     "data": {
      "text/plain": [
       "'C:\\\\Users\\\\Asus\\\\Documents\\\\GitHub\\\\ANN_Itau'"
      ]
     },
     "execution_count": 1,
     "metadata": {},
     "output_type": "execute_result"
    }
   ],
   "source": [
    "import pandas as pd\n",
    "import glob\n",
    "pd.options.display.float_format = '{:.2f}'.format\n",
    "import numpy as np\n",
    "import os\n",
    "import sys\n",
    "import seaborn as sns\n",
    "import matplotlib.pyplot as plt\n",
    "import shutil\n",
    "\n",
    "path = os.path.abspath(os.path.join(os.getcwd(), os.pardir))\n",
    "os.chdir(path)\n",
    "os.getcwd()#os.listdir()"
   ]
  },
  {
   "cell_type": "code",
   "execution_count": 3,
   "metadata": {},
   "outputs": [
    {
     "data": {
      "text/html": [
       "<div>\n",
       "<style scoped>\n",
       "    .dataframe tbody tr th:only-of-type {\n",
       "        vertical-align: middle;\n",
       "    }\n",
       "\n",
       "    .dataframe tbody tr th {\n",
       "        vertical-align: top;\n",
       "    }\n",
       "\n",
       "    .dataframe thead th {\n",
       "        text-align: right;\n",
       "    }\n",
       "</style>\n",
       "<table border=\"1\" class=\"dataframe\">\n",
       "  <thead>\n",
       "    <tr style=\"text-align: right;\">\n",
       "      <th></th>\n",
       "      <th>id</th>\n",
       "      <th>Id_Producto</th>\n",
       "      <th>Tipo</th>\n",
       "      <th>Producto-Tipo</th>\n",
       "      <th>Signo</th>\n",
       "      <th>Monto</th>\n",
       "      <th>Fecha</th>\n",
       "      <th>Periodo</th>\n",
       "    </tr>\n",
       "  </thead>\n",
       "  <tbody>\n",
       "    <tr>\n",
       "      <th>1790315</th>\n",
       "      <td>5795</td>\n",
       "      <td>A</td>\n",
       "      <td>G</td>\n",
       "      <td>A-G</td>\n",
       "      <td>NaN</td>\n",
       "      <td>125916.00</td>\n",
       "      <td>2019-04-25</td>\n",
       "      <td>201904</td>\n",
       "    </tr>\n",
       "    <tr>\n",
       "      <th>18036077</th>\n",
       "      <td>59350</td>\n",
       "      <td>G</td>\n",
       "      <td>K</td>\n",
       "      <td>G-K</td>\n",
       "      <td>Negativo</td>\n",
       "      <td>131134.28</td>\n",
       "      <td>NaN</td>\n",
       "      <td>202002</td>\n",
       "    </tr>\n",
       "    <tr>\n",
       "      <th>5396559</th>\n",
       "      <td>16740</td>\n",
       "      <td>F</td>\n",
       "      <td>I</td>\n",
       "      <td>F-I</td>\n",
       "      <td>Negativo</td>\n",
       "      <td>120000.00</td>\n",
       "      <td>NaN</td>\n",
       "      <td>201910</td>\n",
       "    </tr>\n",
       "    <tr>\n",
       "      <th>5499049</th>\n",
       "      <td>17016</td>\n",
       "      <td>F</td>\n",
       "      <td>H</td>\n",
       "      <td>F-H</td>\n",
       "      <td>Negativo</td>\n",
       "      <td>120000.00</td>\n",
       "      <td>NaN</td>\n",
       "      <td>201906</td>\n",
       "    </tr>\n",
       "    <tr>\n",
       "      <th>638513</th>\n",
       "      <td>2116</td>\n",
       "      <td>G</td>\n",
       "      <td>K</td>\n",
       "      <td>G-K</td>\n",
       "      <td>Negativo</td>\n",
       "      <td>121608.86</td>\n",
       "      <td>NaN</td>\n",
       "      <td>202001</td>\n",
       "    </tr>\n",
       "  </tbody>\n",
       "</table>\n",
       "</div>"
      ],
      "text/plain": [
       "             id Id_Producto Tipo Producto-Tipo     Signo     Monto  \\\n",
       "1790315    5795           A    G           A-G       NaN 125916.00   \n",
       "18036077  59350           G    K           G-K  Negativo 131134.28   \n",
       "5396559   16740           F    I           F-I  Negativo 120000.00   \n",
       "5499049   17016           F    H           F-H  Negativo 120000.00   \n",
       "638513     2116           G    K           G-K  Negativo 121608.86   \n",
       "\n",
       "               Fecha  Periodo  \n",
       "1790315   2019-04-25   201904  \n",
       "18036077         NaN   202002  \n",
       "5396559          NaN   201910  \n",
       "5499049          NaN   201906  \n",
       "638513           NaN   202001  "
      ]
     },
     "metadata": {},
     "output_type": "display_data"
    },
    {
     "name": "stdout",
     "output_type": "stream",
     "text": [
      "<class 'pandas.core.frame.DataFrame'>\n",
      "Int64Index: 24397537 entries, 0 to 24397536\n",
      "Data columns (total 8 columns):\n",
      " #   Column         Dtype  \n",
      "---  ------         -----  \n",
      " 0   id             int64  \n",
      " 1   Id_Producto    object \n",
      " 2   Tipo           object \n",
      " 3   Producto-Tipo  object \n",
      " 4   Signo          object \n",
      " 5   Monto          float64\n",
      " 6   Fecha          object \n",
      " 7   Periodo        int64  \n",
      "dtypes: float64(1), int64(2), object(5)\n",
      "memory usage: 1.6+ GB\n"
     ]
    },
    {
     "data": {
      "text/plain": [
       "None"
      ]
     },
     "metadata": {},
     "output_type": "display_data"
    }
   ],
   "source": [
    "df = pd.read_csv('Datos/raw/Transaccion_train.csv', index_col=0) #Hacer un acumulativo de montos o trANSSACCIONES\n",
    "df.Periodo = df.Periodo.astype('object') #Lo pasamos a str\n",
    "df.id = df.id.astype('object') #Lo pasamos a str\n",
    "\n",
    "#-.-.-.-.\n",
    "#Subsetear por periodo:\n",
    "if (not os.path.exists('./Datos/raw/transaction_subset')):# Crear carpeta ./transaction_subset\n",
    "    os.mkdir('./Datos/raw/transaction_subset')\n",
    "else:# Eliminar anteriores para reemplazarlos:\n",
    "    shutil.rmtree('./Datos/raw/transaction_subset')\n",
    "    os.mkdir('./Datos/raw/transaction_subset')\n",
    "data={}\n",
    "for x in df.Periodo.unique():\n",
    "    data[f\"P_{x}\"]=df.loc[(df.Periodo ==x)]\n",
    "    #print(f\"df_Periodo{x}\",globals()[f\"df_Periodo{x}\"].describe())    \n",
    "    data[f\"P_{x}\"].to_csv('Datos/raw/transaction_subset/'+f\"P_{x}\"+'.csv',index=False)"
   ]
  },
  {
   "cell_type": "code",
   "execution_count": 22,
   "metadata": {},
   "outputs": [
    {
     "name": "stdout",
     "output_type": "stream",
     "text": [
      "\t Monto\n"
     ]
    },
    {
     "data": {
      "text/plain": [
       "count      24397537.00\n",
       "mean         207511.62\n",
       "std        11673145.75\n",
       "min          -25903.14\n",
       "25%          121125.71\n",
       "50%          123542.86\n",
       "75%          131140.00\n",
       "max     33152253952.00\n",
       "Name: Monto, dtype: float64"
      ]
     },
     "metadata": {},
     "output_type": "display_data"
    },
    {
     "name": "stdout",
     "output_type": "stream",
     "text": [
      "\t Cat\n"
     ]
    },
    {
     "data": {
      "text/html": [
       "<div>\n",
       "<style scoped>\n",
       "    .dataframe tbody tr th:only-of-type {\n",
       "        vertical-align: middle;\n",
       "    }\n",
       "\n",
       "    .dataframe tbody tr th {\n",
       "        vertical-align: top;\n",
       "    }\n",
       "\n",
       "    .dataframe thead th {\n",
       "        text-align: right;\n",
       "    }\n",
       "</style>\n",
       "<table border=\"1\" class=\"dataframe\">\n",
       "  <thead>\n",
       "    <tr style=\"text-align: right;\">\n",
       "      <th></th>\n",
       "      <th>id</th>\n",
       "      <th>Id_Producto</th>\n",
       "      <th>Tipo</th>\n",
       "      <th>Producto-Tipo</th>\n",
       "      <th>Signo</th>\n",
       "      <th>Fecha</th>\n",
       "      <th>Periodo</th>\n",
       "    </tr>\n",
       "  </thead>\n",
       "  <tbody>\n",
       "    <tr>\n",
       "      <th>count</th>\n",
       "      <td>24397537</td>\n",
       "      <td>24397537</td>\n",
       "      <td>24397537</td>\n",
       "      <td>24397537</td>\n",
       "      <td>22958345</td>\n",
       "      <td>2413515</td>\n",
       "      <td>24397537</td>\n",
       "    </tr>\n",
       "    <tr>\n",
       "      <th>unique</th>\n",
       "      <td>79539</td>\n",
       "      <td>7</td>\n",
       "      <td>12</td>\n",
       "      <td>16</td>\n",
       "      <td>2</td>\n",
       "      <td>554</td>\n",
       "      <td>19</td>\n",
       "    </tr>\n",
       "    <tr>\n",
       "      <th>top</th>\n",
       "      <td>19847</td>\n",
       "      <td>G</td>\n",
       "      <td>K</td>\n",
       "      <td>G-K</td>\n",
       "      <td>Negativo</td>\n",
       "      <td>2019-05-28</td>\n",
       "      <td>201912</td>\n",
       "    </tr>\n",
       "    <tr>\n",
       "      <th>freq</th>\n",
       "      <td>1696</td>\n",
       "      <td>11043005</td>\n",
       "      <td>18729512</td>\n",
       "      <td>11043005</td>\n",
       "      <td>20819321</td>\n",
       "      <td>63914</td>\n",
       "      <td>1597969</td>\n",
       "    </tr>\n",
       "  </tbody>\n",
       "</table>\n",
       "</div>"
      ],
      "text/plain": [
       "              id Id_Producto      Tipo Producto-Tipo     Signo       Fecha  \\\n",
       "count   24397537    24397537  24397537      24397537  22958345     2413515   \n",
       "unique     79539           7        12            16         2         554   \n",
       "top        19847           G         K           G-K  Negativo  2019-05-28   \n",
       "freq        1696    11043005  18729512      11043005  20819321       63914   \n",
       "\n",
       "         Periodo  \n",
       "count   24397537  \n",
       "unique        19  \n",
       "top       201912  \n",
       "freq     1597969  "
      ]
     },
     "metadata": {},
     "output_type": "display_data"
    }
   ],
   "source": [
    "print( \"\\t Monto\")\n",
    "display(df['Monto'].describe())\n",
    "print( \"\\t Cat\")\n",
    "objec = df.select_dtypes(include=['object'])\n",
    "display(objec.describe())"
   ]
  },
  {
   "cell_type": "code",
   "execution_count": 11,
   "metadata": {},
   "outputs": [],
   "source": [
    "periodos=df.Periodo.unique() #hay que obtenerlo como lista para leerlo abajo\n",
    "periodos"
   ]
  },
  {
   "cell_type": "code",
   "execution_count": 13,
   "metadata": {},
   "outputs": [
    {
     "data": {
      "text/plain": [
       "numpy.int64"
      ]
     },
     "execution_count": 13,
     "metadata": {},
     "output_type": "execute_result"
    }
   ],
   "source": [
    "type(periodos[0])"
   ]
  },
  {
   "cell_type": "code",
   "execution_count": 23,
   "metadata": {},
   "outputs": [
    {
     "data": {
      "image/png": "[encoded data removed]",
      "text/plain": [
       "<Figure size 432x288 with 1 Axes>"
      ]
     },
     "metadata": {
      "needs_background": "light"
     },
     "output_type": "display_data"
    }
   ],
   "source": [
    "plt.hist([data['P_201901']['Id_Producto'],data['P_201904']['Id_Producto']], label=['P_201901', 'P_201904'])\n",
    "plt.legend(loc='upper right')\n",
    "plt.show()"
   ]
  },
  {
   "cell_type": "code",
   "execution_count": 15,
   "metadata": {},
   "outputs": [
    {
     "name": "stderr",
     "output_type": "stream",
     "text": [
      "C:\\Users\\Asus\\anaconda3\\lib\\site-packages\\seaborn\\_decorators.py:36: FutureWarning: Pass the following variable as a keyword arg: x. From version 0.12, the only valid positional argument will be `data`, and passing other arguments without an explicit keyword will result in an error or misinterpretation.\n",
      "  warnings.warn(\n"
     ]
    },
    {
     "data": {
      "text/plain": [
       "<AxesSubplot:xlabel='Id_Producto', ylabel='count'>"
      ]
     },
     "execution_count": 15,
     "metadata": {},
     "output_type": "execute_result"
    },
    {
     "data": {
      "image/png": "[encoded data removed]",
      "text/plain": [
       "<Figure size 432x288 with 1 Axes>"
      ]
     },
     "metadata": {
      "needs_background": "light"
     },
     "output_type": "display_data"
    }
   ],
   "source": [
    "sns.countplot(data['P_201912']['Id_Producto'])"
   ]
  },
  {
   "cell_type": "code",
   "execution_count": null,
   "metadata": {},
   "outputs": [],
   "source": [
    "sns.countplot(data['P_201912']['Id_Producto'])"
   ]
  },
  {
   "cell_type": "code",
   "execution_count": null,
   "metadata": {},
   "outputs": [],
   "source": [
    "data = {}# HAY QUE PROBAR EL CHUNK\n",
    "periodos=[201901, 201903, 201904, 201905, 201906, 201907, 201908, 201909,\n",
    "       201910, 201911, 201912, 202001, 202003, 202004, 202005, 202006,\n",
    "       202007, 201902, 202002]\n",
    "for filename in periodos:\n",
    "    data[f\"P_{filename}\"] = pd.read_csv('Datos/raw/transaction_subset/'+f\"P_{filename}\"+'.csv')\n",
    "    \n",
    "data.keys()"
   ]
  },
  {
   "cell_type": "code",
   "execution_count": null,
   "metadata": {},
   "outputs": [],
   "source": [
    "primer_quan, cuar_quan = df_Periodo201912.Monto.quantile([.25, .75])\n",
    "\n",
    "hist_monto=df.loc[(df_Periodo201912.Monto > primer_quan) & (df_Periodo201912.Monto < cuar_quan)]"
   ]
  },
  {
   "cell_type": "code",
   "execution_count": null,
   "metadata": {},
   "outputs": [],
   "source": [
    "sns.histplot(df_Periodo202004['Monto'])#, color='blue', bins=1000"
   ]
  },
  {
   "cell_type": "code",
   "execution_count": null,
   "metadata": {},
   "outputs": [],
   "source": [
    "sns.catplot(x=\"Signo\", y=\"Monto\", hue=\"Id_Producto\", kind=\"swarm\", data=df)"
   ]
  },
  {
   "cell_type": "code",
   "execution_count": null,
   "metadata": {},
   "outputs": [],
   "source": [
    "df_1 = df[df['Periodo']==201901]"
   ]
  },
  {
   "cell_type": "code",
   "execution_count": null,
   "metadata": {},
   "outputs": [],
   "source": [
    "df_1.head()"
   ]
  },
  {
   "cell_type": "code",
   "execution_count": null,
   "metadata": {},
   "outputs": [],
   "source": [
    "count = df_1.groupby('Id_Producto')['Id_Producto'].count()\n",
    "print(count)"
   ]
  },
  {
   "cell_type": "code",
   "execution_count": null,
   "metadata": {},
   "outputs": [],
   "source": [
    "count/count.sum()"
   ]
  },
  {
   "cell_type": "code",
   "execution_count": null,
   "metadata": {},
   "outputs": [],
   "source": [
    "df_1.describe()"
   ]
  }
 ],
 "metadata": {
  "kernelspec": {
   "display_name": "Python 3",
   "language": "python",
   "name": "python3"
  },
  "language_info": {
   "codemirror_mode": {
    "name": "ipython",
    "version": 3
   },
   "file_extension": ".py",
   "mimetype": "text/x-python",
   "name": "python",
   "nbconvert_exporter": "python",
   "pygments_lexer": "ipython3",
   "version": "3.8.5"
  }
 },
 "nbformat": 4,
 "nbformat_minor": 4
}
