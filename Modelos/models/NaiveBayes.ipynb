{
 "cells": [
  {
   "cell_type": "code",
   "execution_count": 1,
   "metadata": {},
   "outputs": [
    {
     "ename": "ModuleNotFoundError",
     "evalue": "No module named 'quadratic_weighted_kappa'",
     "output_type": "error",
     "traceback": [
      "\u001b[1;31m---------------------------------------------------------------------------\u001b[0m",
      "\u001b[1;31mModuleNotFoundError\u001b[0m                       Traceback (most recent call last)",
      "Input \u001b[1;32mIn [1]\u001b[0m, in \u001b[0;36m<cell line: 7>\u001b[1;34m()\u001b[0m\n\u001b[0;32m      5\u001b[0m \u001b[38;5;28;01mfrom\u001b[39;00m \u001b[38;5;21;01msklearn\u001b[39;00m\u001b[38;5;21;01m.\u001b[39;00m\u001b[38;5;21;01mnaive_bayes\u001b[39;00m \u001b[38;5;28;01mimport\u001b[39;00m GaussianNB \u001b[38;5;66;03m#Model\u001b[39;00m\n\u001b[0;32m      6\u001b[0m \u001b[38;5;28;01mfrom\u001b[39;00m \u001b[38;5;21;01msklearn\u001b[39;00m\u001b[38;5;21;01m.\u001b[39;00m\u001b[38;5;21;01mmetrics\u001b[39;00m \u001b[38;5;28;01mimport\u001b[39;00m classification_report\n\u001b[1;32m----> 7\u001b[0m \u001b[38;5;28;01mimport\u001b[39;00m \u001b[38;5;21;01mml_metrics\u001b[39;00m\n\u001b[0;32m      8\u001b[0m \u001b[38;5;66;03m#%%\u001b[39;00m\n\u001b[0;32m     10\u001b[0m path \u001b[38;5;241m=\u001b[39m \u001b[38;5;124m'\u001b[39m\u001b[38;5;124mC:\u001b[39m\u001b[38;5;130;01m\\\\\u001b[39;00m\u001b[38;5;124mUsers\u001b[39m\u001b[38;5;130;01m\\\\\u001b[39;00m\u001b[38;5;124mFelipe\u001b[39m\u001b[38;5;130;01m\\\\\u001b[39;00m\u001b[38;5;124mDocuments\u001b[39m\u001b[38;5;130;01m\\\\\u001b[39;00m\u001b[38;5;124mGithub\u001b[39m\u001b[38;5;130;01m\\\\\u001b[39;00m\u001b[38;5;124mANN_Itau\u001b[39m\u001b[38;5;124m'\u001b[39m\n",
      "File \u001b[1;32m~\\Anaconda3\\envs\\ANN_tarea\\lib\\site-packages\\ml_metrics\\__init__.py:1\u001b[0m, in \u001b[0;36m<module>\u001b[1;34m\u001b[0m\n\u001b[1;32m----> 1\u001b[0m \u001b[38;5;28;01mfrom\u001b[39;00m \u001b[38;5;21;01mquadratic_weighted_kappa\u001b[39;00m \u001b[38;5;28;01mimport\u001b[39;00m \u001b[38;5;241m*\u001b[39m\n\u001b[0;32m      2\u001b[0m \u001b[38;5;28;01mfrom\u001b[39;00m \u001b[38;5;21;01melementwise\u001b[39;00m \u001b[38;5;28;01mimport\u001b[39;00m \u001b[38;5;241m*\u001b[39m\n\u001b[0;32m      3\u001b[0m \u001b[38;5;28;01mfrom\u001b[39;00m \u001b[38;5;21;01mauc\u001b[39;00m \u001b[38;5;28;01mimport\u001b[39;00m auc\n",
      "\u001b[1;31mModuleNotFoundError\u001b[0m: No module named 'quadratic_weighted_kappa'"
     ]
    }
   ],
   "source": [
    "import pandas as pd\n",
    "import numpy as np\n",
    "\n",
    "from imblearn.under_sampling import RandomUnderSampler #Undersampling\n",
    "from sklearn.naive_bayes import GaussianNB #Model\n",
    "from sklearn.metrics import classification_report\n",
    "import ml_metrics\n",
    "#%%\n",
    "\n",
    "path = 'C:\\\\Users\\\\Felipe\\\\Documents\\\\Github\\\\ANN_Itau'\n",
    "\n",
    "product_list = ['A-A',\n",
    "                'B-B',\n",
    "                'C-D',\n",
    "                'D-E',\n",
    "                'E-E']\n",
    "\n",
    "\n",
    "#%% Lectura de Train/Test\n",
    "\n",
    "train = {}\n",
    "test = {}\n",
    "\n",
    "\n",
    "\n",
    "for prod in product_list:\n",
    "    train[prod] = pd.read_pickle(path+'Datos/final/{}_train.pkl'.format(prod), compression= 'zip')\n",
    "    test[prod] = pd.read_pickle(path+'Datos/final/{}_test.pkl'.format(prod), compression= 'zip')\n",
    "\n",
    "#%%\n",
    "\n",
    "real = pd.DataFrame()\n",
    "pred = pd.DataFrame()\n",
    "\n",
    "for prod in product_list:\n",
    "    rus = RandomUnderSampler(random_state=0)\n",
    "    \n",
    "    X = train[prod].drop(['id', 'Periodo', 'Target'], axis=1)\n",
    "    y = train[prod]['Target']\n",
    "    \n",
    "    X_train_us, y_train_us = rus.fit_resample(X, y)\n",
    "    \n",
    "    model = GaussianNB()\n",
    "    model.fit(X_train_us, y_train_us)\n",
    "    \n",
    "    X_test = test[prod].drop(['id', 'Periodo', 'Target'], axis=1)\n",
    "    y_test = test[prod]['Target']\n",
    "    id_per = test[prod][['id', 'Periodo']]\n",
    "    \n",
    "    y_pred = model.predict(X_test)\n",
    "    print('-----------\\nPRODUCTO {}\\n'.format(prod),classification_report(y_test, y_pred),'\\n\\n')\n",
    "    \n",
    "    pred[prod] = model.predict_proba(X_test).T[1]\n",
    "    real[prod] = y_test\n",
    "\n",
    "real = pd.concat([real, id_per], axis = 1, ignore_index=True)\n",
    "pred = pd.concat([pred, id_per.reset_index(drop = True)], axis = 1, ignore_index=True)"
   ]
  },
  {
   "cell_type": "code",
   "execution_count": null,
   "metadata": {},
   "outputs": [],
   "source": [
    "x = np.arra"
   ]
  },
  {
   "cell_type": "code",
   "execution_count": 2,
   "metadata": {},
   "outputs": [
    {
     "name": "stdout",
     "output_type": "stream",
     "text": [
      "Requirement already satisfied: ml_metrics in c:\\users\\felipe\\anaconda3\\envs\\ann_tarea\\lib\\site-packages (0.1.2)\n",
      "Note: you may need to restart the kernel to use updated packages.\n"
     ]
    }
   ],
   "source": [
    "pip install ml_metrics"
   ]
  },
  {
   "cell_type": "code",
   "execution_count": null,
   "metadata": {},
   "outputs": [],
   "source": []
  }
 ],
 "metadata": {
  "kernelspec": {
   "display_name": "Python 3 (ipykernel)",
   "language": "python",
   "name": "python3"
  },
  "language_info": {
   "codemirror_mode": {
    "name": "ipython",
    "version": 3
   },
   "file_extension": ".py",
   "mimetype": "text/x-python",
   "name": "python",
   "nbconvert_exporter": "python",
   "pygments_lexer": "ipython3",
   "version": "3.10.4"
  }
 },
 "nbformat": 4,
 "nbformat_minor": 4
}
