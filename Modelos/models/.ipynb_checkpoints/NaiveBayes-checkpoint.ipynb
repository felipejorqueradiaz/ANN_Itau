{
 "cells": [
  {
   "cell_type": "code",
   "execution_count": 1,
   "metadata": {},
   "outputs": [
    {
     "ename": "ModuleNotFoundError",
     "evalue": "No module named 'imblearn'",
     "output_type": "error",
     "traceback": [
      "\u001b[1;31m---------------------------------------------------------------------------\u001b[0m",
      "\u001b[1;31mModuleNotFoundError\u001b[0m                       Traceback (most recent call last)",
      "\u001b[1;32m<ipython-input-1-997a8ad10e9a>\u001b[0m in \u001b[0;36m<module>\u001b[1;34m\u001b[0m\n\u001b[0;32m      2\u001b[0m \u001b[1;32mimport\u001b[0m \u001b[0mnumpy\u001b[0m \u001b[1;32mas\u001b[0m \u001b[0mnp\u001b[0m\u001b[1;33m\u001b[0m\u001b[1;33m\u001b[0m\u001b[0m\n\u001b[0;32m      3\u001b[0m \u001b[1;33m\u001b[0m\u001b[0m\n\u001b[1;32m----> 4\u001b[1;33m \u001b[1;32mfrom\u001b[0m \u001b[0mimblearn\u001b[0m\u001b[1;33m.\u001b[0m\u001b[0munder_sampling\u001b[0m \u001b[1;32mimport\u001b[0m \u001b[0mRandomUnderSampler\u001b[0m \u001b[1;31m#Undersampling\u001b[0m\u001b[1;33m\u001b[0m\u001b[1;33m\u001b[0m\u001b[0m\n\u001b[0m\u001b[0;32m      5\u001b[0m \u001b[1;32mfrom\u001b[0m \u001b[0msklearn\u001b[0m\u001b[1;33m.\u001b[0m\u001b[0mnaive_bayes\u001b[0m \u001b[1;32mimport\u001b[0m \u001b[0mGaussianNB\u001b[0m \u001b[1;31m#Model\u001b[0m\u001b[1;33m\u001b[0m\u001b[1;33m\u001b[0m\u001b[0m\n\u001b[0;32m      6\u001b[0m \u001b[1;32mfrom\u001b[0m \u001b[0msklearn\u001b[0m\u001b[1;33m.\u001b[0m\u001b[0mmetrics\u001b[0m \u001b[1;32mimport\u001b[0m \u001b[0mclassification_report\u001b[0m\u001b[1;33m\u001b[0m\u001b[1;33m\u001b[0m\u001b[0m\n",
      "\u001b[1;31mModuleNotFoundError\u001b[0m: No module named 'imblearn'"
     ]
    }
   ],
   "source": [
    "import pandas as pd\n",
    "import numpy as np\n",
    "\n",
    "from imblearn.under_sampling import RandomUnderSampler #Undersampling\n",
    "from sklearn.naive_bayes import GaussianNB #Model\n",
    "from sklearn.metrics import classification_report\n",
    "import ml_metrics\n",
    "#%%\n",
    "\n",
    "path = 'C:\\\\Users\\\\Felipe\\\\Documents\\\\Github\\\\ANN_Itau'\n",
    "\n",
    "product_list = ['A-A',\n",
    "                'B-B',\n",
    "                'C-D',\n",
    "                'D-E',\n",
    "                'E-E']\n",
    "\n",
    "\n",
    "#%% Lectura de Train/Test\n",
    "\n",
    "train = {}\n",
    "test = {}\n",
    "\n",
    "\n",
    "\n",
    "for prod in product_list:\n",
    "    train[prod] = pd.read_pickle(path+'Datos/final/{}_train.pkl'.format(prod), compression= 'zip')\n",
    "    test[prod] = pd.read_pickle(path+'Datos/final/{}_test.pkl'.format(prod), compression= 'zip')\n",
    "\n",
    "#%%\n",
    "\n",
    "real = pd.DataFrame()\n",
    "pred = pd.DataFrame()\n",
    "\n",
    "for prod in product_list:\n",
    "    rus = RandomUnderSampler(random_state=0)\n",
    "    \n",
    "    X = train[prod].drop(['id', 'Periodo', 'Target'], axis=1)\n",
    "    y = train[prod]['Target']\n",
    "    \n",
    "    X_train_us, y_train_us = rus.fit_resample(X, y)\n",
    "    \n",
    "    model = GaussianNB()\n",
    "    model.fit(X_train_us, y_train_us)\n",
    "    \n",
    "    X_test = test[prod].drop(['id', 'Periodo', 'Target'], axis=1)\n",
    "    y_test = test[prod]['Target']\n",
    "    id_per = test[prod][['id', 'Periodo']]\n",
    "    \n",
    "    y_pred = model.predict(X_test)\n",
    "    print('-----------\\nPRODUCTO {}\\n'.format(prod),classification_report(y_test, y_pred),'\\n\\n')\n",
    "    \n",
    "    pred[prod] = model.predict_proba(X_test).T[1]\n",
    "    real[prod] = y_test\n",
    "\n",
    "real = pd.concat([real, id_per], axis = 1, ignore_index=True)\n",
    "pred = pd.concat([pred, id_per.reset_index(drop = True)], axis = 1, ignore_index=True)"
   ]
  },
  {
   "cell_type": "code",
   "execution_count": 2,
   "metadata": {},
   "outputs": [
    {
     "name": "stdout",
     "output_type": "stream",
     "text": [
      "Collecting package metadata (current_repodata.json): ...working... done\n",
      "Solving environment: ...working... failed with initial frozen solve. Retrying with flexible solve.\n",
      "Collecting package metadata (repodata.json): ...working... done\n",
      "Solving environment: ...working... failed with initial frozen solve. Retrying with flexible solve.\n",
      "\n",
      "Note: you may need to restart the kernel to use updated packages.\n"
     ]
    },
    {
     "name": "stderr",
     "output_type": "stream",
     "text": [
      "\n",
      "PackagesNotFoundError: The following packages are not available from current channels:\n",
      "\n",
      "  - imblearn\n",
      "\n",
      "Current channels:\n",
      "\n",
      "  - http://conda.anaconda.org/gurobi/win-64\n",
      "  - http://conda.anaconda.org/gurobi/noarch\n",
      "  - https://repo.anaconda.com/pkgs/main/win-64\n",
      "  - https://repo.anaconda.com/pkgs/main/noarch\n",
      "  - https://repo.anaconda.com/pkgs/r/win-64\n",
      "  - https://repo.anaconda.com/pkgs/r/noarch\n",
      "  - https://repo.anaconda.com/pkgs/msys2/win-64\n",
      "  - https://repo.anaconda.com/pkgs/msys2/noarch\n",
      "\n",
      "To search for alternate channels that may provide the conda package you're\n",
      "looking for, navigate to\n",
      "\n",
      "    https://anaconda.org\n",
      "\n",
      "and use the search bar at the top of the page.\n",
      "\n",
      "\n"
     ]
    }
   ],
   "source": [
    "conda install imblearn"
   ]
  },
  {
   "cell_type": "code",
   "execution_count": null,
   "metadata": {},
   "outputs": [],
   "source": []
  }
 ],
 "metadata": {
  "kernelspec": {
   "display_name": "Python 3",
   "language": "python",
   "name": "python3"
  },
  "language_info": {
   "codemirror_mode": {
    "name": "ipython",
    "version": 3
   },
   "file_extension": ".py",
   "mimetype": "text/x-python",
   "name": "python",
   "nbconvert_exporter": "python",
   "pygments_lexer": "ipython3",
   "version": "3.7.6"
  }
 },
 "nbformat": 4,
 "nbformat_minor": 4
}
