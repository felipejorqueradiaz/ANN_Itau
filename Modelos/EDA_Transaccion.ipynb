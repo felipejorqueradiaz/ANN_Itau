{
 "cells": [
  {
   "cell_type": "code",
   "execution_count": 1,
   "metadata": {},
   "outputs": [
    {
     "data": {
      "text/plain": [
       "'C:\\\\Users\\\\Asus\\\\Documents\\\\GitHub\\\\ANN_Itau'"
      ]
     },
     "execution_count": 1,
     "metadata": {},
     "output_type": "execute_result"
    }
   ],
   "source": [
    "import pandas as pd\n",
    "import glob\n",
    "pd.options.display.float_format = '{:.2f}'.format\n",
    "import numpy as np\n",
    "import os\n",
    "import sys\n",
    "import seaborn as sns\n",
    "import matplotlib.pyplot as plt\n",
    "import shutil\n",
    "\n",
    "path = os.path.abspath(os.path.join(os.getcwd(), os.pardir))\n",
    "os.chdir(path)\n",
    "os.getcwd()#os.listdir()"
   ]
  },
  {
   "cell_type": "code",
   "execution_count": null,
   "metadata": {},
   "outputs": [],
   "source": [
    "df = pd.read_csv('Datos/raw/Transaccion_train.csv', index_col=0) #Hacer un acumulativo de montos o trANSSACCIONES\n",
    "df.Periodo = df.Periodo.astype('object') #Lo pasamos a str\n",
    "df.id = df.id.astype('object') #Lo pasamos a str\n",
    "df.Signo = df.Signo.astype(str)\n",
    "df['Fecha'] = pd.to_datetime(df.Fecha)\n",
    "\n",
    "#-.-.-.-.\n",
    "#Subsetear por periodo:\n",
    "if (not os.path.exists('./Datos/raw/transaction_subset')):# Crear carpeta ./transaction_subset\n",
    "    os.mkdir('./Datos/raw/transaction_subset')\n",
    "else:# Eliminar anteriores para reemplazarlos:\n",
    "    shutil.rmtree('./Datos/raw/transaction_subset')\n",
    "    os.mkdir('./Datos/raw/transaction_subset')\n",
    "data={}\n",
    "size={}\n",
    "for x in df.Periodo.unique():\n",
    "    print(f\"P_{x}\")\n",
    "    data[f\"P_{x}\"]=df.loc[(df.Periodo ==x)]\n",
    "    #print(f\"df_Periodo{x}\",globals()[f\"df_Periodo{x}\"].describe())\n",
    "    size[f\"P_{x}\"]=data[f\"P_{x}\"].shape()[0]\n",
    "    data[f\"P_{x}\"].to_csv('Datos/raw/transaction_subset/'+f\"P_{x}\"+'.csv',index=False)"
   ]
  },
  {
   "cell_type": "code",
   "execution_count": null,
   "metadata": {},
   "outputs": [],
   "source": [
    "data = {}# HAY QUE PROBAR EL CHUNK\n",
    "periodos=[201901, 201902, 201903, 201904, 201905, 201906, 201907,201908, 201909, 201910, 201911, 201912,\n",
    "          202001, 202002, 202003,202004, 202005, 202006, 202007]\n",
    "porcent_datos=[]\n",
    "for filename in periodos:\n",
    "    data[f\"P_{filename}\"] = pd.read_csv('Datos/raw/transaction_subset/'+f\"P_{filename}\"+'.csv')"
   ]
  },
  {
   "cell_type": "code",
   "execution_count": null,
   "metadata": {},
   "outputs": [],
   "source": [
    "# datasets=[data['P_201901']['Id_Producto'],data['P_201904']['Id_Producto']]\n",
    "def histograma(elemento='Id_Producto'):\n",
    "    datasets=[dataset[elemento] for dataset in data.values()]\n",
    "    plt.rcParams.update({'font.size': 80})\n",
    "    plt.figure(figsize=(150, 50), dpi=10)\n",
    "    plt.hist(datasets, label=periodos)\n",
    "    plt.title(f\"Histograma {elemento} por periodo\")\n",
    "    plt.legend(loc='upper right')\n",
    "    plt.show()"
   ]
  },
  {
   "cell_type": "code",
   "execution_count": null,
   "metadata": {},
   "outputs": [],
   "source": [
    "data['P_201901'].shape()"
   ]
  },
  {
   "cell_type": "code",
   "execution_count": null,
   "metadata": {},
   "outputs": [],
   "source": [
    "for i in data['P_201901'].columns:\n",
    "    print(f'\\t {i}')\n",
    "    display(histograma(i))"
   ]
  },
  {
   "cell_type": "code",
   "execution_count": null,
   "metadata": {},
   "outputs": [],
   "source": [
    "def prepro(dataset):\n",
    "    print( \"\\t Describe Montos\")\n",
    "    display(dataset['Monto'])\n",
    "    print( \"\\t Describe Categoricas\")\n",
    "    objec = dataset.select_dtypes(include=['object'])\n",
    "    display(objec.describe())"
   ]
  },
  {
   "cell_type": "code",
   "execution_count": null,
   "metadata": {},
   "outputs": [],
   "source": [
    "primer_quan, cuar_quan = df_Periodo201912.Monto.quantile([.25, .75])\n",
    "\n",
    "hist_monto=df.loc[(df_Periodo201912.Monto > primer_quan) & (df_Periodo201912.Monto < cuar_quan)]"
   ]
  },
  {
   "cell_type": "code",
   "execution_count": null,
   "metadata": {},
   "outputs": [],
   "source": [
    "df_1 = df[df['Periodo']==201901]"
   ]
  },
  {
   "cell_type": "code",
   "execution_count": null,
   "metadata": {},
   "outputs": [],
   "source": [
    "df_1.head()"
   ]
  },
  {
   "cell_type": "code",
   "execution_count": null,
   "metadata": {},
   "outputs": [],
   "source": [
    "count = df_1.groupby('Id_Producto')['Id_Producto'].count()\n",
    "print(count)"
   ]
  },
  {
   "cell_type": "code",
   "execution_count": null,
   "metadata": {},
   "outputs": [],
   "source": [
    "count/count.sum()"
   ]
  },
  {
   "cell_type": "code",
   "execution_count": null,
   "metadata": {},
   "outputs": [],
   "source": [
    "df_1.describe()"
   ]
  }
 ],
 "metadata": {
  "kernelspec": {
   "display_name": "Python 3",
   "language": "python",
   "name": "python3"
  },
  "language_info": {
   "codemirror_mode": {
    "name": "ipython",
    "version": 3
   },
   "file_extension": ".py",
   "mimetype": "text/x-python",
   "name": "python",
   "nbconvert_exporter": "python",
   "pygments_lexer": "ipython3",
   "version": "3.8.5"
  }
 },
 "nbformat": 4,
 "nbformat_minor": 4
}
